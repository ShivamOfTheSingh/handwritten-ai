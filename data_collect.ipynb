{
 "cells": [
  {
   "cell_type": "code",
   "execution_count": 2,
   "metadata": {},
   "outputs": [
    {
     "name": "stderr",
     "output_type": "stream",
     "text": [
      "2023-03-08 15:20:05.386462: I tensorflow/core/platform/cpu_feature_guard.cc:193] This TensorFlow binary is optimized with oneAPI Deep Neural Network Library (oneDNN) to use the following CPU instructions in performance-critical operations:  AVX2 FMA\n",
      "To enable them in other operations, rebuild TensorFlow with the appropriate compiler flags.\n"
     ]
    }
   ],
   "source": [
    "import numpy as np\n",
    "import matplotlib.pyplot as plt\n",
    "import cv2 as cv\n",
    "import random as rd\n",
    "import os\n",
    "\n",
    "#Downloaded the by-merge.zip file from: https://www.nist.gov/srd/nist-special-database-19\n",
    "#In the by_merge dataset, all the images are grouped up first by their fields, denoted by their ASCII hex values (by_merge/41 for \"A\")\n",
    "#In each field directory, images are then grouped from their source, denoted by hsf_X, where X is data group (by_merge/41/hsf_0 for the first sample group of \"A\")\n",
    "#Note that the by_merge directory structure is special as it combines characters that are similar to a single, combined directory (by_merge/53_73 for \"S\" and \"s\")"
   ]
  },
  {
   "cell_type": "code",
   "execution_count": null,
   "metadata": {},
   "outputs": [],
   "source": [
    "#Returns a list of the names of the files in the directory parameter (Files are excluded, folders only)\n",
    "def getSubDir(directory):\n",
    "    return [name for name in os.listdir(directory) if os.path.isdir(os.path.join(directory, name))]"
   ]
  },
  {
   "cell_type": "code",
   "execution_count": null,
   "metadata": {},
   "outputs": [],
   "source": [
    "DIRECTORY = './by_merge'\n",
    "\n",
    "#Creates list of the immediate children in by_merge directory\n",
    "#Creates a list of the fields (In HEX representation of ASCII)\n",
    "CATEGORIES = getSubDir(DIRECTORY)\n",
    "CATEGORIES.sort()\n",
    "print(CATEGORIES)"
   ]
  },
  {
   "cell_type": "code",
   "execution_count": null,
   "metadata": {},
   "outputs": [],
   "source": [
    "IMG_SIZE = 64\n",
    "training_data = []\n",
    "\n",
    "def createTraining():\n",
    "    for category in CATEGORIES:\n",
    "        path = os.path.join(DIRECTORY, category)    #Directory for sampling subfolders\n",
    "        #This loop will iterate through each category and loop each sampling folder\n",
    "        for source_dir in getSubDir(path):\n",
    "            img_path = os.path.join(path, source_dir)   #Directory for img files\n",
    "            #This loop will iterate for each img and add it to out img_arr as a cv2 image\n",
    "            for img in os.listdir(img_path):\n",
    "                img_arr = cv.imread(os.path.join(img_path, img), cv.IMREAD_GRAYSCALE)\n",
    "                new_arr = cv.resize(img_arr, (IMG_SIZE, IMG_SIZE))\n",
    "                training_data.append([new_arr, category])\n",
    "                \n",
    "createTraining()"
   ]
  },
  {
   "cell_type": "code",
   "execution_count": null,
   "metadata": {},
   "outputs": [],
   "source": [
    "#Obvoiusly we gotta shuffle the data\n",
    "rd.shuffle(training_data)"
   ]
  },
  {
   "cell_type": "code",
   "execution_count": null,
   "metadata": {},
   "outputs": [],
   "source": [
    "#Array of images\n",
    "X = []\n",
    "#Array of labels\n",
    "y = []\n",
    "\n",
    "for img, label in training_data:\n",
    "    X.append(img)\n",
    "    y.append(label)\n",
    "    \n",
    "#Converts the arrays into numpy arrays in order to be saved for future use\n",
    "X = np.array(X).reshape(-1, IMG_SIZE, IMG_SIZE, 1)\n",
    "y = np.array(y)"
   ]
  },
  {
   "cell_type": "code",
   "execution_count": null,
   "metadata": {},
   "outputs": [],
   "source": [
    "#Saves arrays to external file\n",
    "np.save('img', X)\n",
    "np.save('labels', y)"
   ]
  }
 ],
 "metadata": {
  "kernelspec": {
   "display_name": "Python 3",
   "language": "python",
   "name": "python3"
  },
  "language_info": {
   "codemirror_mode": {
    "name": "ipython",
    "version": 3
   },
   "file_extension": ".py",
   "mimetype": "text/x-python",
   "name": "python",
   "nbconvert_exporter": "python",
   "pygments_lexer": "ipython3",
   "version": "3.10.6"
  },
  "orig_nbformat": 4
 },
 "nbformat": 4,
 "nbformat_minor": 2
}
