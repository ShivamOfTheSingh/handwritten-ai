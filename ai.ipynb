{
 "cells": [
  {
   "cell_type": "code",
   "execution_count": 2,
   "metadata": {},
   "outputs": [
    {
     "name": "stderr",
     "output_type": "stream",
     "text": [
      "2023-03-08 15:20:05.386462: I tensorflow/core/platform/cpu_feature_guard.cc:193] This TensorFlow binary is optimized with oneAPI Deep Neural Network Library (oneDNN) to use the following CPU instructions in performance-critical operations:  AVX2 FMA\n",
      "To enable them in other operations, rebuild TensorFlow with the appropriate compiler flags.\n"
     ]
    }
   ],
   "source": [
    "import numpy as np\n",
    "import matplotlib.pyplot as plt\n",
    "import pandas as pd\n",
    "import cv2 as cv\n",
    "import tensorflow as tf\n",
    "import random as rd\n",
    "import os\n",
    "\n",
    "#Downloaded the by-merge.zip file from: https://www.nist.gov/srd/nist-special-database-19\n",
    "#In the by_merge dataset, all the images are grouped up first by their fields, denoted by their ASCII hex values (by_merge/41 for \"A\")\n",
    "#In each field directory, images are then grouped from their source, denoted by hsf_X, where X is data group (by_merge/41/hsf_0 for the first sample group of \"A\")\n",
    "#Note that the by_merge directory structure is special as it combines characters that are similar to a single, combined directory (by_merge/53_73 for \"S\" and \"s\")"
   ]
  },
  {
   "cell_type": "code",
   "execution_count": null,
   "metadata": {},
   "outputs": [],
   "source": [
    "#Returns a list of the names of the files in the directory parameter (Files are excluded, folders only)\n",
    "def getSubDir(directory):\n",
    "    return [name for name in os.listdir(directory) if os.path.isdir(os.path.join(directory, name))]"
   ]
  },
  {
   "cell_type": "code",
   "execution_count": null,
   "metadata": {},
   "outputs": [],
   "source": [
    "DIRECTORY = './by_merge'\n",
    "\n",
    "#Creates list of the immediate children in by_merge directory\n",
    "#Creates a list of the fields (In HEX representation of ASCII)\n",
    "CATEGORIES = getSubDir(DIRECTORY)\n",
    "CATEGORIES.sort()\n",
    "print(CATEGORIES)"
   ]
  },
  {
   "cell_type": "code",
   "execution_count": null,
   "metadata": {},
   "outputs": [],
   "source": [
    "IMG_SIZE = 64\n",
    "training_data = []\n",
    "\n",
    "def createTraining():\n",
    "    for category in CATEGORIES:\n",
    "        path = os.path.join(DIRECTORY, category)    #Directory for sampling subfolders\n",
    "        #This loop will iterate through each category and loop each sampling folder\n",
    "        for source_dir in getSubDir(path):\n",
    "            img_path = os.path.join(path, source_dir)   #Directory for img files\n",
    "            #This loop will iterate for each img and add it to out img_arr as a cv2 image\n",
    "            for img in os.listdir(img_path):\n",
    "                img_arr = cv.imread(os.path.join(img_path, img), cv.IMREAD_GRAYSCALE)\n",
    "                new_arr = cv.resize(img_arr, (IMG_SIZE, IMG_SIZE))\n",
    "                training_data.append([new_arr, category])\n",
    "                \n",
    "createTraining()"
   ]
  },
  {
   "cell_type": "code",
   "execution_count": null,
   "metadata": {},
   "outputs": [],
   "source": [
    "#Obvoiusly we gotta shuffle the data\n",
    "rd.shuffle(training_data)"
   ]
  },
  {
   "cell_type": "code",
   "execution_count": null,
   "metadata": {},
   "outputs": [],
   "source": [
    "#Array of images\n",
    "X = []\n",
    "#Array of labels\n",
    "y = []\n",
    "\n",
    "for img, label in training_data:\n",
    "    X.append(img)\n",
    "    y.append(label)\n",
    "    \n",
    "#Converts the arrays into numpy arrays in order to be saved for future use\n",
    "X = np.array(X).reshape(-1, IMG_SIZE, IMG_SIZE, 1)\n",
    "y = np.array(y)"
   ]
  },
  {
   "cell_type": "code",
   "execution_count": null,
   "metadata": {},
   "outputs": [],
   "source": [
    "#Saves arrays to external file\n",
    "np.save('img', X)\n",
    "np.save('labels', y)"
   ]
  },
  {
   "cell_type": "code",
   "execution_count": 3,
   "metadata": {},
   "outputs": [
    {
     "ename": "UnicodeDecodeError",
     "evalue": "'utf-8' codec can't decode byte 0x93 in position 0: invalid start byte",
     "output_type": "error",
     "traceback": [
      "\u001b[0;31m---------------------------------------------------------------------------\u001b[0m",
      "\u001b[0;31mUnicodeDecodeError\u001b[0m                        Traceback (most recent call last)",
      "Cell \u001b[0;32mIn[3], line 3\u001b[0m\n\u001b[1;32m      1\u001b[0m \u001b[39m#Loads arrays from external file\u001b[39;00m\n\u001b[1;32m      2\u001b[0m X \u001b[39m=\u001b[39m np\u001b[39m.\u001b[39mload(\u001b[39m'\u001b[39m\u001b[39mimg.npy\u001b[39m\u001b[39m'\u001b[39m)\n\u001b[0;32m----> 3\u001b[0m y \u001b[39m=\u001b[39m np\u001b[39m.\u001b[39;49mgenfromtxt(\u001b[39m'\u001b[39;49m\u001b[39mlabels.npy\u001b[39;49m\u001b[39m'\u001b[39;49m)\n",
      "File \u001b[0;32m/Library/Frameworks/Python.framework/Versions/3.10/lib/python3.10/site-packages/numpy/lib/npyio.py:2006\u001b[0m, in \u001b[0;36mgenfromtxt\u001b[0;34m(fname, dtype, comments, delimiter, skip_header, skip_footer, converters, missing_values, filling_values, usecols, names, excludelist, deletechars, replace_space, autostrip, case_sensitive, defaultfmt, unpack, usemask, loose, invalid_raise, max_rows, encoding, ndmin, like)\u001b[0m\n\u001b[1;32m   2003\u001b[0m first_values \u001b[39m=\u001b[39m \u001b[39mNone\u001b[39;00m\n\u001b[1;32m   2005\u001b[0m \u001b[39mwhile\u001b[39;00m \u001b[39mnot\u001b[39;00m first_values:\n\u001b[0;32m-> 2006\u001b[0m     first_line \u001b[39m=\u001b[39m _decode_line(\u001b[39mnext\u001b[39;49m(fhd), encoding)\n\u001b[1;32m   2007\u001b[0m     \u001b[39mif\u001b[39;00m (names \u001b[39mis\u001b[39;00m \u001b[39mTrue\u001b[39;00m) \u001b[39mand\u001b[39;00m (comments \u001b[39mis\u001b[39;00m \u001b[39mnot\u001b[39;00m \u001b[39mNone\u001b[39;00m):\n\u001b[1;32m   2008\u001b[0m         \u001b[39mif\u001b[39;00m comments \u001b[39min\u001b[39;00m first_line:\n",
      "File \u001b[0;32m/Library/Frameworks/Python.framework/Versions/3.10/lib/python3.10/codecs.py:322\u001b[0m, in \u001b[0;36mBufferedIncrementalDecoder.decode\u001b[0;34m(self, input, final)\u001b[0m\n\u001b[1;32m    319\u001b[0m \u001b[39mdef\u001b[39;00m \u001b[39mdecode\u001b[39m(\u001b[39mself\u001b[39m, \u001b[39minput\u001b[39m, final\u001b[39m=\u001b[39m\u001b[39mFalse\u001b[39;00m):\n\u001b[1;32m    320\u001b[0m     \u001b[39m# decode input (taking the buffer into account)\u001b[39;00m\n\u001b[1;32m    321\u001b[0m     data \u001b[39m=\u001b[39m \u001b[39mself\u001b[39m\u001b[39m.\u001b[39mbuffer \u001b[39m+\u001b[39m \u001b[39minput\u001b[39m\n\u001b[0;32m--> 322\u001b[0m     (result, consumed) \u001b[39m=\u001b[39m \u001b[39mself\u001b[39;49m\u001b[39m.\u001b[39;49m_buffer_decode(data, \u001b[39mself\u001b[39;49m\u001b[39m.\u001b[39;49merrors, final)\n\u001b[1;32m    323\u001b[0m     \u001b[39m# keep undecoded input until the next call\u001b[39;00m\n\u001b[1;32m    324\u001b[0m     \u001b[39mself\u001b[39m\u001b[39m.\u001b[39mbuffer \u001b[39m=\u001b[39m data[consumed:]\n",
      "\u001b[0;31mUnicodeDecodeError\u001b[0m: 'utf-8' codec can't decode byte 0x93 in position 0: invalid start byte"
     ]
    }
   ],
   "source": [
    "#Loads arrays from external file\n",
    "X = np.load('img.npy')\n",
    "y = np.genfromtxt('labels.npy')"
   ]
  },
  {
   "cell_type": "code",
   "execution_count": null,
   "metadata": {},
   "outputs": [],
   "source": []
  },
  {
   "cell_type": "code",
   "execution_count": null,
   "metadata": {},
   "outputs": [],
   "source": []
  }
 ],
 "metadata": {
  "kernelspec": {
   "display_name": "Python 3",
   "language": "python",
   "name": "python3"
  },
  "language_info": {
   "codemirror_mode": {
    "name": "ipython",
    "version": 3
   },
   "file_extension": ".py",
   "mimetype": "text/x-python",
   "name": "python",
   "nbconvert_exporter": "python",
   "pygments_lexer": "ipython3",
   "version": "3.10.6"
  },
  "orig_nbformat": 4
 },
 "nbformat": 4,
 "nbformat_minor": 2
}
